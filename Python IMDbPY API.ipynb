{
 "cells": [
  {
   "cell_type": "code",
   "execution_count": 28,
   "metadata": {},
   "outputs": [
    {
     "name": "stdout",
     "output_type": "stream",
     "text": [
      "Requirement already satisfied: imdbpy in c:\\users\\erenu\\anaconda3\\lib\\site-packages (2021.4.18)\n",
      "Requirement already satisfied: lxml in c:\\users\\erenu\\anaconda3\\lib\\site-packages (from imdbpy) (4.3.4)\n",
      "Requirement already satisfied: SQLAlchemy in c:\\users\\erenu\\anaconda3\\lib\\site-packages (from imdbpy) (1.3.5)\n"
     ]
    }
   ],
   "source": [
    "# Setup\n",
    "!pip install imdbpy"
   ]
  },
  {
   "cell_type": "code",
   "execution_count": 29,
   "metadata": {},
   "outputs": [],
   "source": [
    "# import package\n",
    "import imdb\n",
    "from imdb import IMDb"
   ]
  },
  {
   "cell_type": "code",
   "execution_count": 30,
   "metadata": {},
   "outputs": [],
   "source": [
    "# set instance of the IMDB class\n",
    "moviesDB = imdb.IMDb()"
   ]
  },
  {
   "cell_type": "code",
   "execution_count": 31,
   "metadata": {},
   "outputs": [
    {
     "name": "stdout",
     "output_type": "stream",
     "text": [
      "['__class__', '__delattr__', '__dict__', '__dir__', '__doc__', '__eq__', '__format__', '__ge__', '__getattribute__', '__gt__', '__hash__', '__init__', '__init_subclass__', '__le__', '__lt__', '__module__', '__ne__', '__new__', '__reduce__', '__reduce_ex__', '__repr__', '__setattr__', '__sizeof__', '__str__', '__subclasshook__', '__weakref__', '_defModFunct', '_getRefs', '_get_infoset', '_get_keyword', '_get_list_content', '_get_movie_list', '_get_real_characterID', '_get_real_companyID', '_get_real_movieID', '_get_real_personID', '_get_search_content', '_get_search_movie_advanced_content', '_get_top_bottom_movies', '_http_logger', '_keywordsResults', '_mdparse', '_normalize_characterID', '_normalize_companyID', '_normalize_movieID', '_normalize_personID', '_purge_seasons_data', '_reraise_exceptions', '_results', '_retrieve', '_searchIMDb', '_search_character', '_search_company', '_search_episode', '_search_keyword', '_search_movie', '_search_movie_advanced', '_search_person', 'accessSystem', 'character2imdbID', 'compProxy', 'company2imdbID', 'del_cookies', 'do_adult_search', 'get_bottom100_movies', 'get_character', 'get_character_infoset', 'get_company', 'get_company_infoset', 'get_company_main', 'get_episode', 'get_imdbCharacterID', 'get_imdbCompanyID', 'get_imdbID', 'get_imdbMovieID', 'get_imdbPersonID', 'get_imdbURL', 'get_keyword', 'get_movie', 'get_movie_airing', 'get_movie_akas', 'get_movie_alternate_versions', 'get_movie_awards', 'get_movie_connections', 'get_movie_crazy_credits', 'get_movie_critic_reviews', 'get_movie_episodes', 'get_movie_external_reviews', 'get_movie_external_sites', 'get_movie_faqs', 'get_movie_full_credits', 'get_movie_goofs', 'get_movie_infoset', 'get_movie_keywords', 'get_movie_list', 'get_movie_locations', 'get_movie_main', 'get_movie_misc_sites', 'get_movie_news', 'get_movie_official_sites', 'get_movie_parents_guide', 'get_movie_photo_sites', 'get_movie_plot', 'get_movie_quotes', 'get_movie_recommendations', 'get_movie_release_dates', 'get_movie_release_info', 'get_movie_reviews', 'get_movie_sound_clips', 'get_movie_soundtrack', 'get_movie_synopsis', 'get_movie_taglines', 'get_movie_technical', 'get_movie_trivia', 'get_movie_tv_schedule', 'get_movie_video_clips', 'get_movie_vote_details', 'get_person', 'get_person_awards', 'get_person_biography', 'get_person_filmography', 'get_person_genres_links', 'get_person_infoset', 'get_person_keywords_links', 'get_person_main', 'get_person_news', 'get_person_official_sites', 'get_person_other_works', 'get_person_publicity', 'get_popular100_movies', 'get_popular100_tv', 'get_proxy', 'get_special_methods', 'get_top250_indian_movies', 'get_top250_movies', 'get_top250_tv', 'listProxy', 'mProxy', 'name2imdbID', 'new_character', 'new_company', 'new_movie', 'new_person', 'pProxy', 'scompProxy', 'search_character', 'search_company', 'search_episode', 'search_keyword', 'search_movie', 'search_movie_advanced', 'search_person', 'set_cookies', 'set_imdb_urls', 'set_proxy', 'set_timeout', 'skProxy', 'smProxy', 'smaProxy', 'spProxy', 'title2imdbID', 'topBottomProxy', 'update', 'update_series_seasons', 'urlOpener', 'urls']\n"
     ]
    }
   ],
   "source": [
    "# output the directory of the instance 'moviesDB'\n",
    "print(dir(moviesDB))"
   ]
  },
  {
   "cell_type": "code",
   "execution_count": 32,
   "metadata": {},
   "outputs": [],
   "source": [
    "# search for all movies with title 'Interstellar'\n",
    "movies = moviesDB.search_movie('Interstellar')"
   ]
  },
  {
   "cell_type": "code",
   "execution_count": 33,
   "metadata": {},
   "outputs": [
    {
     "data": {
      "text/plain": [
       "[<Movie id:0816692[http] title:_Interstellar (2014)_>,\n",
       " <Movie id:12227440[http] title:_Interstellar (2020)_>,\n",
       " <Movie id:10728262[http] title:_Interstellar (2018)_>,\n",
       " <Movie id:5709892[http] title:_Interstelar 2: Operation Terra 2040 (2016)_>,\n",
       " <Movie id:5056352[http] title:_Interstellar Civil War: Shadows of the Empire (2017)_>,\n",
       " <Movie id:5083736[http] title:_Interstellar Wars (2016)_>,\n",
       " <Movie id:4172224[http] title:_Interstellar: Nolan's Odyssey (2014) (TV)_>,\n",
       " <Movie id:11236038[http] title:_\"Interstellar Ranger Commence\" (2022)_>,\n",
       " <Movie id:0758429[http] title:_Interstellar (2005)_>,\n",
       " <Movie id:5297406[http] title:_Inside 'Interstellar' (2015) (V)_>,\n",
       " <Movie id:11231404[http] title:_\"Annoying Orange: Trailer Trashed\" Interstellar (2014)_>,\n",
       " <Movie id:4185858[http] title:_\"Half in the Bag\" Interstellar (2014)_>,\n",
       " <Movie id:4200458[http] title:_\"Did You Watch...?\" Interstellar (2014)_>,\n",
       " <Movie id:4058942[http] title:_\"Hollywood Agent Clark\" Interstellar (2015)_>,\n",
       " <Movie id:3420836[http] title:_\"Trailer Failure\" Interstellar (2013)_>,\n",
       " <Movie id:5974570[http] title:_\"Fam Reviews\" Interstellar (2016)_>,\n",
       " <Movie id:7255644[http] title:_\"Behind the Scenes\" Interstellar (I) (2014)_>,\n",
       " <Movie id:4572466[http] title:_\"Call to Cosplay\" Interstellar (2015)_>,\n",
       " <Movie id:5320970[http] title:_\"Plokhbuster Show\" Interstellar (2015)_>,\n",
       " <Movie id:9561608[http] title:_\"Movies with Mikey\" Interstellar (2016)_>]"
      ]
     },
     "execution_count": 33,
     "metadata": {},
     "output_type": "execute_result"
    }
   ],
   "source": [
    "# output movies search\n",
    "movies"
   ]
  },
  {
   "cell_type": "code",
   "execution_count": 34,
   "metadata": {},
   "outputs": [
    {
     "name": "stdout",
     "output_type": "stream",
     "text": [
      "Searching for \"Interstellar\"\n",
      "Interstellar - 2014\n",
      "Interstellar - 2020\n",
      "Interstellar - 2018\n",
      "Interstelar 2: Operation Terra 2040 - 2016\n",
      "Interstellar Civil War: Shadows of the Empire - 2017\n",
      "Interstellar Wars - 2016\n",
      "Interstellar: Nolan's Odyssey - 2014\n",
      "Interstellar Ranger Commence - 2022\n",
      "Interstellar - 2005\n",
      "Inside 'Interstellar' - 2015\n",
      "Interstellar - 2014\n",
      "Interstellar - 2014\n",
      "Interstellar - 2014\n",
      "Interstellar - 2015\n",
      "Interstellar - 2013\n",
      "Interstellar - 2016\n",
      "Interstellar - 2014\n",
      "Interstellar - 2015\n",
      "Interstellar - 2015\n",
      "Interstellar - 2016\n"
     ]
    }
   ],
   "source": [
    "# lookup title and year for title 'Interstellar'\n",
    "print ('Searching for \"Interstellar\"' )\n",
    "for movie in movies:\n",
    "    title = movie['title']\n",
    "    year = movie ['year']\n",
    "    print(f'{title} - {year}')"
   ]
  },
  {
   "cell_type": "code",
   "execution_count": 35,
   "metadata": {},
   "outputs": [],
   "source": [
    "# setup ID for movie 'Interstellar' with attributes\n",
    "id = movies[0].getID()\n",
    "movie = moviesDB.get_movie(id)\n",
    "\n",
    "title = movie['title']\n",
    "year = movie['year']\n",
    "rating = movie['rating']\n",
    "directors = movie['directors']\n",
    "casting = movie['cast']"
   ]
  },
  {
   "cell_type": "code",
   "execution_count": 36,
   "metadata": {},
   "outputs": [
    {
     "data": {
      "text/plain": [
       "'Interstellar'"
      ]
     },
     "execution_count": 36,
     "metadata": {},
     "output_type": "execute_result"
    }
   ],
   "source": [
    "# output title of movie\n",
    "title"
   ]
  },
  {
   "cell_type": "code",
   "execution_count": 37,
   "metadata": {},
   "outputs": [
    {
     "data": {
      "text/plain": [
       "8.6"
      ]
     },
     "execution_count": 37,
     "metadata": {},
     "output_type": "execute_result"
    }
   ],
   "source": [
    "# output rating of movie\n",
    "rating"
   ]
  },
  {
   "cell_type": "code",
   "execution_count": 38,
   "metadata": {},
   "outputs": [
    {
     "data": {
      "text/plain": [
       "'Ellen Burstyn, Matthew McConaughey, Mackenzie Foy, John Lithgow, Timothée Chalamet, David Oyelowo, Collette Wolfe, Francis X. McCarthy, Bill Irwin, Anne Hathaway, Andrew Borba, Wes Bentley, William Devane, Michael Caine, David Gyasi, Josh Stewart, Casey Affleck, Leah Cairns, Jessica Chastain, William Dickinson, Topher Grace, Matt Damon, Flora Nolan, Griffen Fraser, Jeff Hephner, Lena Georgas, Elyes Gabel, Brooke Smith, Russ Fega, William Patrick Brown, Cici Leah Campbell, Mark Casimir Dyniewicz Jr., Troy Fyhn, Benjamin Hardy, Alexander Michael Helisek, Ryan Irving, Alexander Lu, Derek McEntire, Joseph Oliveira, Benjamin Pitz, Marlon Sanders, Bryan Stamp, Kristian Van der Heyden, Kevan Weber'"
      ]
     },
     "execution_count": 38,
     "metadata": {},
     "output_type": "execute_result"
    }
   ],
   "source": [
    "# output actors of the movie\n",
    "actors = ', '.join(map(str, casting))\n",
    "actors"
   ]
  },
  {
   "cell_type": "code",
   "execution_count": 39,
   "metadata": {
    "scrolled": true
   },
   "outputs": [
    {
     "name": "stdout",
     "output_type": "stream",
     "text": [
      "trivia: Suffered a permanent spinal injury while filming The Exorcist (1973). In the sequence where she is thrown away from her possessed daughter, a harness jerked her hard away from the bed. She fell on her coccyx and screamed in pain, which was kept in the final version of the released film.\n"
     ]
    }
   ],
   "source": [
    "# setup and output trivia of the first movie in the list with name 'Interstellar'; ordered by date ascending\n",
    "id = casting[0].getID()\n",
    "person = moviesDB.get_person(id)\n",
    "bio = moviesDB.get_person_biography(id)\n",
    "\n",
    "trivia = person['trivia']\n",
    "print(f'trivia: {trivia[0]}')"
   ]
  },
  {
   "cell_type": "code",
   "execution_count": 41,
   "metadata": {},
   "outputs": [],
   "source": [
    "# initialze the best and worst movies in the IMDb list\n",
    "top = moviesDB.get_top250_movies()\n",
    "bottom = moviesDB.get_bottom100_movies()"
   ]
  },
  {
   "cell_type": "code",
   "execution_count": 42,
   "metadata": {},
   "outputs": [
    {
     "data": {
      "text/plain": [
       "[<Movie id:0111161[http] title:_The Shawshank Redemption (1994)_>,\n",
       " <Movie id:0068646[http] title:_The Godfather (1972)_>,\n",
       " <Movie id:0071562[http] title:_The Godfather: Part II (1974)_>,\n",
       " <Movie id:0468569[http] title:_The Dark Knight (2008)_>,\n",
       " <Movie id:0050083[http] title:_12 Angry Men (1957)_>,\n",
       " <Movie id:0108052[http] title:_Schindler's List (1993)_>,\n",
       " <Movie id:0167260[http] title:_The Lord of the Rings: The Return of the King (2003)_>,\n",
       " <Movie id:0110912[http] title:_Pulp Fiction (1994)_>,\n",
       " <Movie id:0060196[http] title:_The Good, the Bad and the Ugly (1966)_>,\n",
       " <Movie id:0120737[http] title:_The Lord of the Rings: The Fellowship of the Ring (2001)_>]"
      ]
     },
     "execution_count": 42,
     "metadata": {},
     "output_type": "execute_result"
    }
   ],
   "source": [
    "# output top 10 movies\n",
    "top[:10]"
   ]
  },
  {
   "cell_type": "code",
   "execution_count": 43,
   "metadata": {},
   "outputs": [
    {
     "data": {
      "text/plain": [
       "[<Movie id:1213644[http] title:_Disaster Movie (2008)_>,\n",
       " <Movie id:0270846[http] title:_Superbabies: Baby Geniuses 2 (2004)_>,\n",
       " <Movie id:4458206[http] title:_Code Name: K.O.Z. (2015)_>,\n",
       " <Movie id:0060666[http] title:_Manos: The Hands of Fate (1966)_>,\n",
       " <Movie id:4009460[http] title:_Kirk Cameron's Saving Christmas (2014)_>,\n",
       " <Movie id:1316037[http] title:_Birdemic: Shock and Terror (2010)_>,\n",
       " <Movie id:0804492[http] title:_The Hottie & the Nottie (2008)_>,\n",
       " <Movie id:0317676[http] title:_House of the Dead (2003)_>,\n",
       " <Movie id:0417056[http] title:_Pledge This! (2006)_>,\n",
       " <Movie id:10888594[http] title:_Radhe (2021)_>]"
      ]
     },
     "execution_count": 43,
     "metadata": {},
     "output_type": "execute_result"
    }
   ],
   "source": [
    "# output worst 10 movies\n",
    "bottom[:10]"
   ]
  },
  {
   "cell_type": "code",
   "execution_count": 44,
   "metadata": {},
   "outputs": [],
   "source": [
    "# create an instance of the IMDb class\n",
    "ia = IMDb()"
   ]
  },
  {
   "cell_type": "code",
   "execution_count": 45,
   "metadata": {},
   "outputs": [],
   "source": [
    "# get a movie with selected ID\n",
    "getMovie = ia.get_movie('0133093')"
   ]
  },
  {
   "cell_type": "code",
   "execution_count": 46,
   "metadata": {},
   "outputs": [
    {
     "data": {
      "text/plain": [
       "<Movie id:0133093[http] title:_The Matrix (1999)_>"
      ]
     },
     "execution_count": 46,
     "metadata": {},
     "output_type": "execute_result"
    }
   ],
   "source": [
    "# output movie\n",
    "getMovie"
   ]
  },
  {
   "cell_type": "code",
   "execution_count": 47,
   "metadata": {},
   "outputs": [
    {
     "name": "stdout",
     "output_type": "stream",
     "text": [
      "Directors:\n",
      "Christopher Nolan\n"
     ]
    }
   ],
   "source": [
    "# print the names of the directors of the movie\n",
    "print('Directors:')\n",
    "for director in movie['directors']:\n",
    "    print(director['name'])"
   ]
  },
  {
   "cell_type": "code",
   "execution_count": 48,
   "metadata": {},
   "outputs": [
    {
     "name": "stdout",
     "output_type": "stream",
     "text": [
      "Genres:\n",
      "Adventure\n",
      "Drama\n",
      "Sci-Fi\n"
     ]
    }
   ],
   "source": [
    "# print the genres of the movie\n",
    "print('Genres:')\n",
    "for genre in movie['genres']:\n",
    "    print(genre)"
   ]
  },
  {
   "cell_type": "code",
   "execution_count": 49,
   "metadata": {},
   "outputs": [
    {
     "name": "stdout",
     "output_type": "stream",
     "text": [
      "0000154 Mel Gibson\n",
      "12550288 Mel Gibson\n",
      "0317112 Mel Gibson\n",
      "2153167 Mel Gibson\n",
      "3323885 Adam Taylor\n",
      "2800055 Mel Gibson\n",
      "3742421 Melina Mari Bryant   nickname\n",
      "0316878 Cal Gibson\n",
      "0317195 Terel Gibson\n",
      "0316945 Donal Gibson\n",
      "4047961 Noel Gibson\n",
      "2106809 Raquel Gibson\n",
      "3912400 Jamel Gibson\n",
      "0316915 Daniel Gibson\n",
      "0316950 E.L. Gibson\n",
      "12479102 Gel Gibson\n",
      "2798174 Daniel Gibson\n",
      "6928816 Christel Gibson\n",
      "0316984 Hal Gibson\n",
      "12406940 Al Gibson\n"
     ]
    }
   ],
   "source": [
    "# search for a person name\n",
    "people = ia.search_person('Mel Gibson')\n",
    "for person in people:\n",
    "   print(person.personID, person['name'])"
   ]
  }
 ],
 "metadata": {
  "kernelspec": {
   "display_name": "Python 3.7.3 64-bit",
   "language": "python",
   "name": "python37364bita9af5e83940d41808b58c0f0d376c602"
  },
  "language_info": {
   "codemirror_mode": {
    "name": "ipython",
    "version": 3
   },
   "file_extension": ".py",
   "mimetype": "text/x-python",
   "name": "python",
   "nbconvert_exporter": "python",
   "pygments_lexer": "ipython3",
   "version": "3.7.3"
  }
 },
 "nbformat": 4,
 "nbformat_minor": 2
}
